{
 "cells": [
  {
   "cell_type": "code",
   "execution_count": 1,
   "id": "f6722b10-1142-4394-9f13-e2835b4b94c3",
   "metadata": {},
   "outputs": [],
   "source": [
    "import os\n",
    "import openai\n",
    "import urllib\n",
    "\n",
    "\n",
    "\n",
    "from openai import OpenAI\n",
    "client = OpenAI()"
   ]
  },
  {
   "cell_type": "markdown",
   "id": "95a44904-c4cd-42d7-a108-00a62b2fef2d",
   "metadata": {},
   "source": [
    "##Create a design and save locally"
   ]
  },
  {
   "cell_type": "code",
   "execution_count": 82,
   "id": "e25b1858-08fa-400c-a919-6d723b024f02",
   "metadata": {},
   "outputs": [],
   "source": [
    "prompt_text=\"an ethnic armenian bracelet with a stone\""
   ]
  },
  {
   "cell_type": "code",
   "execution_count": 83,
   "id": "4cec4346-e0c2-4b65-868f-0e2f0f5d176d",
   "metadata": {},
   "outputs": [
    {
     "name": "stdout",
     "output_type": "stream",
     "text": [
      "https://oaidalleapiprodscus.blob.core.windows.net/private/org-uEg3WQ9e95orNKiZox62OZtW/user-qbeyDxOSgquXW8GGNQeGATn8/img-XLyJKfzWxAXrW5MDSXGwjxL4.png?st=2024-06-17T07%3A18%3A46Z&se=2024-06-17T09%3A18%3A46Z&sp=r&sv=2023-11-03&sr=b&rscd=inline&rsct=image/png&skoid=6aaadede-4fb3-4698-a8f6-684d7786b067&sktid=a48cca56-e6da-484e-a814-9c849652bcb3&skt=2024-06-16T19%3A11%3A25Z&ske=2024-06-17T19%3A11%3A25Z&sks=b&skv=2023-11-03&sig=SqqumDhUqb6WH3uj/2jBAX6e/8biq5GbCFMKLm5n9js%3D\n"
     ]
    }
   ],
   "source": [
    "image_response=client.images.generate(\n",
    "    model=\"dall-e-3\",\n",
    "    prompt=prompt_text,\n",
    "    size=\"1024x1024\",\n",
    "    quality=\"standard\",\n",
    "    n=1,\n",
    ")\n",
    "image_url1=image_response.data[0].url\n",
    "print(image_url1)\n"
   ]
  },
  {
   "cell_type": "code",
   "execution_count": 84,
   "id": "2abd70f8-6be2-451c-a84f-3b506a1de722",
   "metadata": {},
   "outputs": [
    {
     "data": {
      "text/plain": [
       "('ethnic-br.png', <http.client.HTTPMessage at 0x216100e1210>)"
      ]
     },
     "execution_count": 84,
     "metadata": {},
     "output_type": "execute_result"
    }
   ],
   "source": [
    "img_name=\"ethnic-br.png\"\n",
    "urllib.request.urlretrieve(image_url1, img_name)\n",
    "\n"
   ]
  },
  {
   "cell_type": "markdown",
   "id": "63c71804-f5df-4909-ac65-63496991e504",
   "metadata": {},
   "source": [
    "Image editing\n"
   ]
  },
  {
   "cell_type": "markdown",
   "id": "3b33726b-139f-414a-a02f-2496f2fabc43",
   "metadata": {},
   "source": [
    "Changing the color with the mask"
   ]
  },
  {
   "cell_type": "code",
   "execution_count": null,
   "id": "05fcb036-8057-46fb-a45d-b0b6d9a9cd06",
   "metadata": {},
   "outputs": [],
   "source": [
    "import cv2\n",
    "import numpy as np\n",
    "\n",
    "# Define color ranges in HSV\n",
    "color_ranges = {\n",
    "    \"black\": ([0, 0, 0], [180, 255, 30]),\n",
    "    \"white\": ([0, 0, 200], [180, 20, 255]),\n",
    "    \"red\": ([0, 100, 100], [10, 255, 255]),\n",
    "    \"light_red\": ([0, 100, 200], [10, 255, 255]),\n",
    "    \"dark_red\": ([0, 100, 50], [10, 255, 100]),\n",
    "    \"green\": ([35, 40, 40], [85, 255, 255]),\n",
    "    \"light_green\": ([35, 40, 200], [85, 255, 255]),\n",
    "    \"dark_green\": ([35, 40, 80], [85, 255, 170]),\n",
    "    \"blue\": ([100, 40, 40], [140, 255, 255]),\n",
    "    \"light_blue\": ([100, 40, 200], [140, 255, 255]),\n",
    "    \"dark_blue\": ([100, 40, 80], [140, 255, 170]),\n",
    "    \"yellow\": ([25, 40, 40], [35, 255, 255]),\n",
    "    \"light_yellow\": ([25, 40, 200], [35, 255, 255]),\n",
    "    \"dark_yellow\": ([25, 40, 50], [35, 255, 100]),\n",
    "    \"orange\": ([10, 100, 100], [25, 255, 255]),\n",
    "    \"light_orange\": ([10, 100, 200], [25, 255, 255]),\n",
    "    \"dark_orange\": ([10, 100, 50], [25, 255, 100]),\n",
    "    \"pink\": ([140, 40, 40], [170, 255, 255]),\n",
    "    \"light_pink\": ([140, 40, 200], [170, 255, 255]),\n",
    "    \"dark_pink\": ([140, 40, 50], [170, 255, 100]),\n",
    "    \"turquoise\": ([85, 40, 40], [100, 255, 255]),\n",
    "    \"light_turquoise\": ([85, 40, 200], [100, 255, 255]),\n",
    "    \"dark_turquoise\": ([85, 40, 80], [100, 255, 170]),\n",
    "    \"purple\": ([125, 40, 40], [150, 255, 255]),\n",
    "    \"light_purple\": ([125, 40, 200], [150, 255, 255]),\n",
    "    \"dark_purple\": ([125, 40, 80], [150, 255, 170]),\n",
    "    \"beige\": ([15, 50, 170], [25, 180, 255]),\n",
    "    \"light_beige\": ([15, 50, 200], [25, 180, 255]),\n",
    "    \"dark_beige\": ([15, 50, 100], [25, 180, 170]),\n",
    "    \"brown\": ([10, 100, 20], [20, 255, 90]),\n",
    "    \"light_brown\": ([10, 100, 60], [20, 255, 110]),\n",
    "    \"dark_brown\": ([10, 100, 10], [20, 255, 50]),\n",
    "    \"gold\": ([20, 100, 100], [30, 255, 255]),\n",
    "    \"light_gold\": ([20, 100, 200], [30, 255, 255]),\n",
    "    \"dark_gold\": ([20, 100, 50], [30, 255, 100]),\n",
    "    \"silver\": ([0, 0, 128], [180, 50, 255]),\n",
    "    \"light_silver\": ([0, 0, 200], [180, 50, 255]),\n",
    "    \"dark_silver\": ([0, 0, 100], [180, 50, 150]),\n",
    "    \"gray\": ([0, 0, 50], [180, 50, 200]),\n",
    "    \"light_gray\": ([0, 0, 150], [180, 50, 200]),\n",
    "    \"dark_gray\": ([0, 0, 20], [180, 50, 70]),\n",
    "    \"mahogany\": ([0, 100, 20], [10, 150, 60]),\n",
    "    \"light_mahogany\": ([0, 100, 40], [10, 150, 80]),\n",
    "    \"dark_mahogany\": ([0, 100, 10], [10, 120, 50]),\n",
    "    \"moss_green\": ([60, 40, 40], [80, 150, 90]),\n",
    "    \"light_moss_green\": ([60, 40, 70], [80, 150, 110]),\n",
    "    \"dark_moss_green\": ([60, 40, 20], [80, 150, 60]),\n",
    "    \"burgundy\": ([170, 100, 20], [180, 200, 90]),\n",
    "    \"light_burgundy\": ([170, 100, 40], [180, 200, 110]),\n",
    "    \"dark_burgundy\": ([170, 100, 10], [180, 150, 50])\n",
    "}\n",
    "\n",
    "### Updated `output_colors` Dictionary:\n",
    "\n",
    "output_colors = {\n",
    "    \"black\": (0, 0, 0),\n",
    "    \"white\": (255, 255, 255),\n",
    "    \"red\": (0, 0, 255),\n",
    "    \"light_red\": (128, 0, 255),\n",
    "    \"dark_red\": (0, 0, 128),\n",
    "    \"green\": (0, 255, 0),\n",
    "    \"light_green\": (144, 238, 144),\n",
    "    \"dark_green\": (0, 128, 0),\n",
    "    \"blue\": (255, 0, 0),\n",
    "    \"light_blue\": (173, 216, 230),\n",
    "    \"dark_blue\": (0, 0, 139),\n",
    "    \"yellow\": (0, 255, 255),\n",
    "    \"light_yellow\": (255, 255, 224),\n",
    "    \"dark_yellow\": (139, 139, 0),\n",
    "    \"orange\": (0, 165, 255),\n",
    "    \"light_orange\": (255, 200, 0),\n",
    "    \"dark_orange\": (255, 140, 0),\n",
    "    \"pink\": (255, 105, 180),\n",
    "    \"light_pink\": (255, 182, 193),\n",
    "    \"dark_pink\": (255, 20, 147),\n",
    "    \"turquoise\": (208, 224, 64),\n",
    "    \"light_turquoise\": (175, 238, 238),\n",
    "    \"dark_turquoise\": (0, 206, 209),\n",
    "    \"purple\": (128, 0, 128),\n",
    "    \"light_purple\": (147, 112, 219),\n",
    "    \"dark_purple\": (75, 0, 130),\n",
    "    \"beige\": (200, 173, 127),\n",
    "    \"light_beige\": (245, 245, 220),\n",
    "    \"dark_beige\": (181, 166, 66),\n",
    "    \"brown\": (42, 42, 165),\n",
    "    \"light_brown\": (153, 101, 21),\n",
    "    \"dark_brown\": (92, 64, 51),\n",
    "    \"gold\": (0, 215, 255),\n",
    "    \"light_gold\": (210, 190, 140),\n",
    "    \"dark_gold\": (184, 134, 11),\n",
    "    \"silver\": (192, 192, 192),\n",
    "    \"light_silver\": (230, 230, 250),\n",
    "    \"dark_silver\": (169, 169, 169),\n",
    "    \"gray\": (128, 128, 128),\n",
    "    \"light_gray\": (211, 211, 211),\n",
    "    \"dark_gray\": (169, 169, 169),\n",
    "    \"mahogany\": (93, 38, 90),\n",
    "    \"light_mahogany\": (139, 69, 19),\n",
    "    \"dark_mahogany\": (75, 0, 130),\n",
    "    \"moss_green\": (54, 54, 60),\n",
    "    \"light_moss_green\": (107, 142, 35),\n",
    "    \"dark_moss_green\": (85, 107, 47),\n",
    "    \"burgundy\": (128, 0, 32),\n",
    "    \"light_burgundy\": (153, 51, 102),\n",
    "    \"dark_burgundy\": (88, 24, 69)\n",
    "}\n",
    "\n",
    "def convert_color(image, original_color, target_color):\n",
    "    # Convert the image to the HSV color space to make color detection easier\n",
    "    hsv = cv2.cvtColor(image, cv2.COLOR_BGR2HSV)\n",
    "\n",
    "    # Get the HSV ranges for the original color\n",
    "    lower_original = np.array(color_ranges[original_color][0])\n",
    "    upper_original = np.array(color_ranges[original_color][1])\n",
    "\n",
    "    # Create mask to detect the original color regions\n",
    "    mask = cv2.inRange(hsv, lower_original, upper_original)\n",
    "\n",
    "    # Create an image filled with the target color\n",
    "    result = image.copy()\n",
    "    result[mask > 0] = output_colors[target_color]\n",
    "\n",
    "    return result\n",
    "\n",
    "# Load an image from file\n",
    "image_path = img_name  # Replace with the path to your image\n",
    "image = cv2.imread(image_path)\n",
    "\n",
    "# Check if the image was successfully loaded\n",
    "if image is None:\n",
    "    print(\"Error: Could not open or find the image.\")\n",
    "else:\n",
    "    # Define the original color and target color\n",
    "    original_color = 'green'  # Replace with the desired original color\n",
    "    target_color = 'red'  # Replace with the desired target color\n",
    "    \n",
    "    result_image = convert_color(image, original_color, target_color)\n",
    "\n",
    "    # Save the result image to a file\n",
    "    result_image_path = 'output_image'+'_'+img_name+target_color+'.jpg'  # Replace with the desired output path\n",
    "    cv2.imwrite(result_image_path, result_image)\n",
    "\n",
    "    # Display the original and the result images\n",
    "    cv2.imshow('Original Image', image)\n",
    "    cv2.imshow('Result Image', result_image)\n",
    "    cv2.waitKey(0)\n",
    "    cv2.destroyAllWindows()"
   ]
  },
  {
   "cell_type": "markdown",
   "id": "cb8c4c47-3ffa-4bed-b65a-aea2a13ed586",
   "metadata": {},
   "source": [
    "Create a mask"
   ]
  },
  {
   "cell_type": "code",
   "execution_count": 97,
   "id": "bbf75998-4d5c-42b0-9ecd-bab6fee10935",
   "metadata": {},
   "outputs": [],
   "source": [
    "from openai import OpenAI\n",
    "client = OpenAI()\n",
    "\n",
    "response = client.images.edit(\n",
    "  model=\"dall-e-2\",\n",
    "  image=open(\"ethnic-br.png\", \"rb\"),\n",
    "  mask=open(\"masked3.png\", \"rb\"),\n",
    "  prompt=\"an ethnic armenian bracelet with one big ruby stone and 5 small ruby stones\",\n",
    "  n=1,\n",
    "  size=\"1024x1024\"\n",
    ")\n",
    "image_url = response.data[0].url"
   ]
  },
  {
   "cell_type": "code",
   "execution_count": 98,
   "id": "e8e244a5-7e92-4127-a067-f41c2746c662",
   "metadata": {},
   "outputs": [
    {
     "name": "stdout",
     "output_type": "stream",
     "text": [
      "https://oaidalleapiprodscus.blob.core.windows.net/private/org-uEg3WQ9e95orNKiZox62OZtW/user-qbeyDxOSgquXW8GGNQeGATn8/img-CtftQ3PSjxj5ukw6elBbwJu2.png?st=2024-06-17T07%3A29%3A11Z&se=2024-06-17T09%3A29%3A11Z&sp=r&sv=2023-11-03&sr=b&rscd=inline&rsct=image/png&skoid=6aaadede-4fb3-4698-a8f6-684d7786b067&sktid=a48cca56-e6da-484e-a814-9c849652bcb3&skt=2024-06-16T19%3A44%3A00Z&ske=2024-06-17T19%3A44%3A00Z&sks=b&skv=2023-11-03&sig=KYj8r5xcrHDHGr48Mq5vDe/XvQBbJ7TwirQR/M6aEDY%3D\n"
     ]
    }
   ],
   "source": [
    "print(image_url)"
   ]
  },
  {
   "cell_type": "code",
   "execution_count": null,
   "id": "691cbea6-4616-40c3-9796-2915823fbfd7",
   "metadata": {},
   "outputs": [],
   "source": [
    "#create variations"
   ]
  },
  {
   "cell_type": "code",
   "execution_count": 99,
   "id": "58f8920e-9adc-42da-a49b-a83f40b46817",
   "metadata": {},
   "outputs": [
    {
     "ename": "KeyboardInterrupt",
     "evalue": "",
     "output_type": "error",
     "traceback": [
      "\u001b[1;31m---------------------------------------------------------------------------\u001b[0m",
      "\u001b[1;31mKeyboardInterrupt\u001b[0m                         Traceback (most recent call last)",
      "Cell \u001b[1;32mIn[99], line 110\u001b[0m\n\u001b[0;32m    108\u001b[0m root \u001b[38;5;241m=\u001b[39m Tk()\n\u001b[0;32m    109\u001b[0m app \u001b[38;5;241m=\u001b[39m ImageMasker(root)\n\u001b[1;32m--> 110\u001b[0m root\u001b[38;5;241m.\u001b[39mmainloop()\n",
      "File \u001b[1;32m~\\anaconda3\\Lib\\tkinter\\__init__.py:1485\u001b[0m, in \u001b[0;36mMisc.mainloop\u001b[1;34m(self, n)\u001b[0m\n\u001b[0;32m   1483\u001b[0m \u001b[38;5;28;01mdef\u001b[39;00m \u001b[38;5;21mmainloop\u001b[39m(\u001b[38;5;28mself\u001b[39m, n\u001b[38;5;241m=\u001b[39m\u001b[38;5;241m0\u001b[39m):\n\u001b[0;32m   1484\u001b[0m \u001b[38;5;250m    \u001b[39m\u001b[38;5;124;03m\"\"\"Call the mainloop of Tk.\"\"\"\u001b[39;00m\n\u001b[1;32m-> 1485\u001b[0m     \u001b[38;5;28mself\u001b[39m\u001b[38;5;241m.\u001b[39mtk\u001b[38;5;241m.\u001b[39mmainloop(n)\n",
      "\u001b[1;31mKeyboardInterrupt\u001b[0m: "
     ]
    }
   ],
   "source": [
    "import cv2\n",
    "import numpy as np\n",
    "from tkinter import *\n",
    "from tkinter import filedialog, messagebox\n",
    "from PIL import Image, ImageTk\n",
    "\n",
    "class ImageMasker:\n",
    "    def __init__(self, root):\n",
    "        self.root = root\n",
    "        self.root.title(\"Image Masker\")\n",
    "        self.root.geometry('800x600')\n",
    "\n",
    "        self.canvas = Canvas(self.root, cursor=\"cross\")\n",
    "        self.canvas.pack(expand=True, fill='both')\n",
    "\n",
    "        # Image format options\n",
    "        self.format_var = StringVar(value='RGBA')\n",
    "        format_label = Label(self.root, text=\"Choose format:\")\n",
    "        format_label.pack(side=LEFT, padx=5)\n",
    "        format_menu = OptionMenu(self.root, self.format_var, 'RGBA', 'LA', 'L')\n",
    "        format_menu.pack(side=LEFT, padx=5)\n",
    "\n",
    "        self.img = None\n",
    "        self.tk_img = None\n",
    "        self.rectangles = []\n",
    "\n",
    "        # Load image button\n",
    "        load_btn = Button(self.root, text=\"Load Image\", command=self.load_image)\n",
    "        load_btn.pack(side=LEFT, padx=10)\n",
    "\n",
    "        # Save image button\n",
    "        save_btn = Button(self.root, text=\"Save Masked Image\", command=self.save_image)\n",
    "        save_btn.pack(side=RIGHT, padx=10)\n",
    "\n",
    "        # Bind mouse events to the canvas\n",
    "        self.canvas.bind(\"<ButtonPress-1>\", self.on_button_press)\n",
    "        self.canvas.bind(\"<B1-Motion>\", self.on_mouse_drag)\n",
    "        self.canvas.bind(\"<ButtonRelease-1>\", self.on_button_release)\n",
    "\n",
    "        # Variables to store the coordinates of the rectangle\n",
    "        self.start_x = self.start_y = 0\n",
    "\n",
    "    def load_image(self):\n",
    "        file_path = filedialog.askopenfilename(\n",
    "            filetypes=[(\"Image files\", \"*.jpg;*.jpeg;*.png;*.bmp;*.tiff\")]\n",
    "        )\n",
    "        if file_path:\n",
    "            self.img = cv2.imread(file_path, cv2.IMREAD_UNCHANGED)\n",
    "            if self.img.shape[2] == 3:\n",
    "                self.img = cv2.cvtColor(self.img, cv2.COLOR_BGR2BGRA)\n",
    "            self.display_image()\n",
    "\n",
    "    def display_image(self):\n",
    "        b, g, r, a = cv2.split(self.img)\n",
    "        img_rgb = cv2.merge((r, g, b))\n",
    "        img_pil = Image.fromarray(img_rgb)\n",
    "        self.tk_img = ImageTk.PhotoImage(img_pil)\n",
    "        self.canvas.config(scrollregion=self.canvas.bbox(ALL))\n",
    "        self.canvas.create_image(0, 0, anchor='nw', image=self.tk_img)\n",
    "\n",
    "    def on_button_press(self, event):\n",
    "        self.start_x = self.canvas.canvasx(event.x)\n",
    "        self.start_y = self.canvas.canvasy(event.y)\n",
    "\n",
    "    def on_mouse_drag(self, event):\n",
    "        x = self.canvas.canvasx(event.x)\n",
    "        y = self.canvas.canvasy(event.y)\n",
    "        if self.rectangles:\n",
    "            self.canvas.delete(self.rectangles[-1])\n",
    "        rect_id = self.canvas.create_rectangle(\n",
    "            self.start_x, self.start_y, x, y, outline='red', width=2\n",
    "        )\n",
    "        self.rectangles[-1:] = [rect_id]\n",
    "\n",
    "    def on_button_release(self, event):\n",
    "        x = self.canvas.canvasx(event.x)\n",
    "        y = self.canvas.canvasy(event.y)\n",
    "        self.rectangles.append(self.canvas.create_rectangle(\n",
    "            self.start_x, self.start_y, x, y, outline='red', width=2\n",
    "        ))\n",
    "\n",
    "    def save_image(self):\n",
    "        if self.img is None or not self.rectangles:\n",
    "            messagebox.showwarning(\"Warning\", \"No image or rectangles to mask\")\n",
    "            return\n",
    "\n",
    "        format_choice = self.format_var.get()\n",
    "        masked_img = self.img.copy()\n",
    "\n",
    "        for rect_id in self.rectangles:\n",
    "            coords = self.canvas.coords(rect_id)\n",
    "            x1, y1, x2, y2 = map(int, coords)\n",
    "            masked_img[y1:y2, x1:x2] = [0, 0, 0, 0]  # Mask the selected area to transparent\n",
    "\n",
    "        if format_choice == 'RGBA':\n",
    "            img_pil = Image.fromarray(cv2.cvtColor(masked_img, cv2.COLOR_BGRA2RGBA))\n",
    "        elif format_choice == 'LA':\n",
    "            img_pil = Image.fromarray(cv2.cvtColor(masked_img, cv2.COLOR_BGRA2GRAY)).convert(\"LA\")\n",
    "        elif format_choice == 'L':\n",
    "            img_pil = Image.fromarray(cv2.cvtColor(masked_img, cv2.COLOR_BGRA2GRAY))\n",
    "\n",
    "        download_path = os.path.join(os.path.expanduser(\"~\"), \"Downloads\", \"masked3.png\")\n",
    "        img_pil.save(download_path)\n",
    "        messagebox.showinfo(\"Info\", f\"Masked image saved to {download_path}\")\n",
    "\n",
    "if __name__ == \"__main__\":\n",
    "    import os\n",
    "    root = Tk()\n",
    "    app = ImageMasker(root)\n",
    "    root.mainloop()"
   ]
  },
  {
   "cell_type": "markdown",
   "id": "edc4a129-a1e5-4285-b9fb-88c10b70ecfb",
   "metadata": {},
   "source": [
    "edit image with the mask"
   ]
  },
  {
   "cell_type": "code",
   "execution_count": null,
   "id": "84a4037b-9858-4697-8bbe-21a733d1d6e3",
   "metadata": {},
   "outputs": [],
   "source": [
    "from openai import OpenAI\n",
    "client = OpenAI()\n",
    "\n",
    "response = client.images.create_variation(\n",
    "  model=\"dall-e-2\",\n",
    "  image=open(\"png-skirt-black.png\", \"rb\"),\n",
    "  n=1,\n",
    "  size=\"1024x1024\"\n",
    ")\n",
    "\n",
    "image_url = response.data[0].url"
   ]
  },
  {
   "cell_type": "code",
   "execution_count": null,
   "id": "b1ff7d6e-4c41-4f00-ab74-e75f29732cd9",
   "metadata": {},
   "outputs": [],
   "source": [
    "image_url"
   ]
  },
  {
   "cell_type": "code",
   "execution_count": null,
   "id": "2f60da4a-d6d7-40f8-990e-9bd130704545",
   "metadata": {},
   "outputs": [],
   "source": [
    "img_name=\"red_cardigan.png\"\n",
    "urllib.request.urlretrieve(image_url, img_name)"
   ]
  },
  {
   "cell_type": "code",
   "execution_count": null,
   "id": "60b7402e-a25a-4cc0-ad24-08452b9b5457",
   "metadata": {},
   "outputs": [],
   "source": []
  }
 ],
 "metadata": {
  "kernelspec": {
   "display_name": "Python 3 (ipykernel)",
   "language": "python",
   "name": "python3"
  },
  "language_info": {
   "codemirror_mode": {
    "name": "ipython",
    "version": 3
   },
   "file_extension": ".py",
   "mimetype": "text/x-python",
   "name": "python",
   "nbconvert_exporter": "python",
   "pygments_lexer": "ipython3",
   "version": "3.11.7"
  }
 },
 "nbformat": 4,
 "nbformat_minor": 5
}
